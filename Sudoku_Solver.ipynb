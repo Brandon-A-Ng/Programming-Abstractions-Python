{
  "nbformat": 4,
  "nbformat_minor": 0,
  "metadata": {
    "colab": {
      "name": "Sudoku_Solver.ipynb",
      "provenance": [],
      "collapsed_sections": []
    },
    "kernelspec": {
      "display_name": "Python 3",
      "language": "python",
      "name": "python3"
    },
    "language_info": {
      "codemirror_mode": {
        "name": "ipython",
        "version": 3
      },
      "file_extension": ".py",
      "mimetype": "text/x-python",
      "name": "python",
      "nbconvert_exporter": "python",
      "pygments_lexer": "ipython3",
      "version": "3.7.10"
    },
    "test_info": {
      "id": "711fe4ceaee2225ca5e7b5b43b368c18c9b9566c"
    }
  },
  "cells": [
    {
      "cell_type": "code",
      "metadata": {
        "id": "-i43wLfzhdPO"
      },
      "source": [
        "NAME = \"Brandon Ng\""
      ],
      "execution_count": null,
      "outputs": []
    },
    {
      "cell_type": "markdown",
      "metadata": {
        "id": "Fyhd0foOhdPR"
      },
      "source": [
        "---"
      ]
    },
    {
      "cell_type": "markdown",
      "metadata": {
        "deletable": false,
        "editable": false,
        "nbgrader": {
          "cell_type": "markdown",
          "checksum": "496163a260419b914fa200f192914121",
          "grade": false,
          "grade_id": "cell-c285b4ebc76bbc97",
          "locked": true,
          "schema_version": 3,
          "solution": false
        },
        "id": "_PpvNdzLhdPV"
      },
      "source": [
        "# Sudoku Solver\n",
        "\n",
        "First, I define a representation for a Sudoku problem. \n",
        "\n",
        "The idea is to represent a Sudoku problem via a $9 \\times 9$ matrix of _sets_: each set contains the digits that can possibly fit in the given space.   A known digit will be represented with just a set containing only one element or 0 to signify \"blank\".\n",
        "The code will solve a Sudoku problem by progressively \"shrinking\" these sets of possibilities, until they all contain exactly one element. \n"
      ]
    },
    {
      "cell_type": "markdown",
      "metadata": {
        "deletable": false,
        "editable": false,
        "nbgrader": {
          "cell_type": "markdown",
          "checksum": "9e5d7d22fdc7a5a7a07a27c11a52790e",
          "grade": false,
          "grade_id": "cell-151003cf8fc7620a",
          "locked": true,
          "schema_version": 3,
          "solution": false
        },
        "id": "xucz-_-IhdPW"
      },
      "source": [
        "Tiny helper function that returns the only element from a singleton set."
      ]
    },
    {
      "cell_type": "code",
      "metadata": {
        "deletable": false,
        "editable": false,
        "nbgrader": {
          "cell_type": "code",
          "checksum": "c50389c94bd5aa15b8730458d324e27a",
          "grade": false,
          "grade_id": "cell-827ad7be0aa4e5c4",
          "locked": true,
          "schema_version": 3,
          "solution": false
        },
        "id": "cgSlJRcVhdPX"
      },
      "source": [
        "def getel(s):\n",
        "    \"\"\"Returns the unique element in a singleton set (or list).\"\"\"\n",
        "    assert len(s) == 1\n",
        "    return list(s)[0]\n"
      ],
      "execution_count": null,
      "outputs": []
    },
    {
      "cell_type": "code",
      "metadata": {
        "deletable": false,
        "editable": false,
        "nbgrader": {
          "cell_type": "code",
          "checksum": "55b54074dab77e5220faf45a5cf60dba",
          "grade": false,
          "grade_id": "cell-2263b8e9a5ec13ce",
          "locked": true,
          "schema_version": 3,
          "solution": false
        },
        "id": "CTChkP7ShdPX"
      },
      "source": [
        "import json\n",
        "\n",
        "class Sudoku(object):\n",
        "\n",
        "    def __init__(self, elements):\n",
        "        \"\"\"Elements can be one of:\n",
        "        Case 1: a list of 9 strings of length 9 each.\n",
        "        Each string represents a row of the initial Sudoku puzzle,\n",
        "        with either a digit 1..9 in it, or with a blank or _ to signify\n",
        "        a blank cell.\n",
        "        Case 2: an instance of Sudoku.  In that case, we initialize an\n",
        "        object to be equal (a copy) of the one in elements.\n",
        "        Case 3: a list of list of sets, used to initialize the problem.\"\"\"\n",
        "        if isinstance(elements, Sudoku):\n",
        "            # We let self.m consist of copies of each set in elements.m\n",
        "            self.m = [[x.copy() for x in row] for row in elements.m]\n",
        "        else:\n",
        "            assert len(elements) == 9\n",
        "            for s in elements:\n",
        "                assert len(s) == 9\n",
        "            # We let self.m be our Sudoku problem, a 9x9 matrix of sets.\n",
        "            self.m = []\n",
        "            for s in elements:\n",
        "                row = []\n",
        "                for c in s:\n",
        "                    if isinstance(c, str):\n",
        "                        if c.isdigit():\n",
        "                            row.append({int(c)})\n",
        "                        else:\n",
        "                            row.append({1, 2, 3, 4, 5, 6, 7, 8, 9})\n",
        "                    else:\n",
        "                        assert isinstance(c, set)\n",
        "                        row.append(c)\n",
        "                self.m.append(row)\n",
        "\n",
        "\n",
        "    def show(self, details=False):\n",
        "        \"\"\"Prints out the Sudoku matrix.  If details=False, we print out\n",
        "        the digits only for cells that have singleton sets (where only\n",
        "        one digit can fit).  If details=True, for each cell, we display the\n",
        "        sets associated with the cell.\"\"\"\n",
        "        if details:\n",
        "            print(\"+-----------------------------+-----------------------------+-----------------------------+\")\n",
        "            for i in range(9):\n",
        "                r = '|'\n",
        "                for j in range(9):\n",
        "                    # We represent the set {2, 3, 5} via _23_5____\n",
        "                    s = ''\n",
        "                    for k in range(1, 10):\n",
        "                        s += str(k) if k in self.m[i][j] else '_'\n",
        "                    r += s\n",
        "                    r += '|' if (j + 1) % 3 == 0 else ' '\n",
        "                print(r)\n",
        "                if (i + 1) % 3 == 0:\n",
        "                    print(\"+-----------------------------+-----------------------------+-----------------------------+\")\n",
        "        else:\n",
        "            print(\"+---+---+---+\")\n",
        "            for i in range(9):\n",
        "                r = '|'\n",
        "                for j in range(9):\n",
        "                    if len(self.m[i][j]) == 1:\n",
        "                        r += str(getel(self.m[i][j]))\n",
        "                    else:\n",
        "                        r += \".\"\n",
        "                    if (j + 1) % 3 == 0:\n",
        "                        r += \"|\"\n",
        "                print(r)\n",
        "                if (i + 1) % 3 == 0:\n",
        "                    print(\"+---+---+---+\")\n",
        "\n",
        "\n",
        "    def to_string(self):\n",
        "        \"\"\"This method is useful for producing a representation that\n",
        "        can be used in testing.\"\"\"\n",
        "        as_lists = [[list(self.m[i][j]) for j in range(9)] for i in range(9)]\n",
        "        return json.dumps(as_lists)\n",
        "\n",
        "\n",
        "    @staticmethod\n",
        "    def from_string(s):\n",
        "        \"\"\"Inverse of above.\"\"\"\n",
        "        as_lists = json.loads(s)\n",
        "        as_sets = [[set(el) for el in row] for row in as_lists]\n",
        "        return Sudoku(as_sets)\n",
        "\n",
        "\n",
        "    def __eq__(self, other):\n",
        "        \"\"\"Useful for testing.\"\"\"\n",
        "        return self.m == other.m\n"
      ],
      "execution_count": null,
      "outputs": []
    },
    {
      "cell_type": "markdown",
      "metadata": {
        "deletable": false,
        "editable": false,
        "nbgrader": {
          "cell_type": "markdown",
          "checksum": "b82ad66ac4c34a8cb00a34e3b29b535a",
          "grade": false,
          "grade_id": "cell-cb1a30c2763d5d2",
          "locked": true,
          "schema_version": 3,
          "solution": false
        },
        "id": "nk1aGEyHhdPY"
      },
      "source": [
        "Input a problem page and check that the serialization and deserialization works."
      ]
    },
    {
      "cell_type": "code",
      "metadata": {
        "deletable": false,
        "editable": false,
        "nbgrader": {
          "cell_type": "code",
          "checksum": "d019c9b4fcd041d57ff1e843e26713d6",
          "grade": false,
          "grade_id": "cell-1f083f349fe0572b",
          "locked": true,
          "schema_version": 3,
          "solution": false
        },
        "id": "B-0nBIPshdPY",
        "outputId": "0581c425-fcef-4fcd-c631-9fd39990310a",
        "colab": {
          "base_uri": "https://localhost:8080/"
        }
      },
      "source": [
        "# Ensure that nose is installed.\n",
        "try:\n",
        "    from nose.tools import assert_equal, assert_true\n",
        "    from nose.tools import assert_false, assert_almost_equal\n",
        "except:\n",
        "    !pip install nose\n",
        "    from nose.tools import assert_equal, assert_true\n",
        "    from nose.tools import assert_false, assert_almost_equal\n"
      ],
      "execution_count": null,
      "outputs": [
        {
          "output_type": "stream",
          "name": "stdout",
          "text": [
            "Collecting nose\n",
            "  Downloading nose-1.3.7-py3-none-any.whl (154 kB)\n",
            "\u001b[?25l\r\u001b[K     |██▏                             | 10 kB 13.7 MB/s eta 0:00:01\r\u001b[K     |████▎                           | 20 kB 15.8 MB/s eta 0:00:01\r\u001b[K     |██████▍                         | 30 kB 8.3 MB/s eta 0:00:01\r\u001b[K     |████████▌                       | 40 kB 7.1 MB/s eta 0:00:01\r\u001b[K     |██████████▋                     | 51 kB 4.6 MB/s eta 0:00:01\r\u001b[K     |████████████▊                   | 61 kB 4.9 MB/s eta 0:00:01\r\u001b[K     |██████████████▉                 | 71 kB 4.7 MB/s eta 0:00:01\r\u001b[K     |█████████████████               | 81 kB 5.3 MB/s eta 0:00:01\r\u001b[K     |███████████████████             | 92 kB 5.4 MB/s eta 0:00:01\r\u001b[K     |█████████████████████▏          | 102 kB 4.4 MB/s eta 0:00:01\r\u001b[K     |███████████████████████▎        | 112 kB 4.4 MB/s eta 0:00:01\r\u001b[K     |█████████████████████████▍      | 122 kB 4.4 MB/s eta 0:00:01\r\u001b[K     |███████████████████████████▌    | 133 kB 4.4 MB/s eta 0:00:01\r\u001b[K     |█████████████████████████████▋  | 143 kB 4.4 MB/s eta 0:00:01\r\u001b[K     |███████████████████████████████▊| 153 kB 4.4 MB/s eta 0:00:01\r\u001b[K     |████████████████████████████████| 154 kB 4.4 MB/s \n",
            "\u001b[?25hInstalling collected packages: nose\n",
            "Successfully installed nose-1.3.7\n"
          ]
        }
      ]
    },
    {
      "cell_type": "code",
      "metadata": {
        "deletable": false,
        "editable": false,
        "nbgrader": {
          "cell_type": "code",
          "checksum": "27b98c191045f976b457b3be6c1d6a96",
          "grade": false,
          "grade_id": "cell-abc219725ab90761",
          "locked": true,
          "schema_version": 3,
          "solution": false
        },
        "colab": {
          "base_uri": "https://localhost:8080/"
        },
        "id": "XdtTIJaIhdPZ",
        "outputId": "85f7c78c-8495-4699-82af-6dd27c87b191"
      },
      "source": [
        "from nose.tools import assert_equal\n",
        "\n",
        "sd = Sudoku([\n",
        "    '53__7____',\n",
        "    '6__195___',\n",
        "    '_98____6_',\n",
        "    '8___6___3',\n",
        "    '4__8_3__1',\n",
        "    '7___2___6',\n",
        "    '_6____28_',\n",
        "    '___419__5',\n",
        "    '____8__79'\n",
        "])\n",
        "sd.show()\n",
        "sd.show(details=True)\n",
        "s = sd.to_string()\n",
        "sdd = Sudoku.from_string(s)\n",
        "sdd.show(details=True)\n",
        "assert_equal(sd, sdd)\n"
      ],
      "execution_count": null,
      "outputs": [
        {
          "output_type": "stream",
          "name": "stdout",
          "text": [
            "+---+---+---+\n",
            "|53.|.7.|...|\n",
            "|6..|195|...|\n",
            "|.98|...|.6.|\n",
            "+---+---+---+\n",
            "|8..|.6.|..3|\n",
            "|4..|8.3|..1|\n",
            "|7..|.2.|..6|\n",
            "+---+---+---+\n",
            "|.6.|...|28.|\n",
            "|...|419|..5|\n",
            "|...|.8.|.79|\n",
            "+---+---+---+\n",
            "+-----------------------------+-----------------------------+-----------------------------+\n",
            "|____5____ __3______ 123456789|123456789 ______7__ 123456789|123456789 123456789 123456789|\n",
            "|_____6___ 123456789 123456789|1________ ________9 ____5____|123456789 123456789 123456789|\n",
            "|123456789 ________9 _______8_|123456789 123456789 123456789|123456789 _____6___ 123456789|\n",
            "+-----------------------------+-----------------------------+-----------------------------+\n",
            "|_______8_ 123456789 123456789|123456789 _____6___ 123456789|123456789 123456789 __3______|\n",
            "|___4_____ 123456789 123456789|_______8_ 123456789 __3______|123456789 123456789 1________|\n",
            "|______7__ 123456789 123456789|123456789 _2_______ 123456789|123456789 123456789 _____6___|\n",
            "+-----------------------------+-----------------------------+-----------------------------+\n",
            "|123456789 _____6___ 123456789|123456789 123456789 123456789|_2_______ _______8_ 123456789|\n",
            "|123456789 123456789 123456789|___4_____ 1________ ________9|123456789 123456789 ____5____|\n",
            "|123456789 123456789 123456789|123456789 _______8_ 123456789|123456789 ______7__ ________9|\n",
            "+-----------------------------+-----------------------------+-----------------------------+\n",
            "+-----------------------------+-----------------------------+-----------------------------+\n",
            "|____5____ __3______ 123456789|123456789 ______7__ 123456789|123456789 123456789 123456789|\n",
            "|_____6___ 123456789 123456789|1________ ________9 ____5____|123456789 123456789 123456789|\n",
            "|123456789 ________9 _______8_|123456789 123456789 123456789|123456789 _____6___ 123456789|\n",
            "+-----------------------------+-----------------------------+-----------------------------+\n",
            "|_______8_ 123456789 123456789|123456789 _____6___ 123456789|123456789 123456789 __3______|\n",
            "|___4_____ 123456789 123456789|_______8_ 123456789 __3______|123456789 123456789 1________|\n",
            "|______7__ 123456789 123456789|123456789 _2_______ 123456789|123456789 123456789 _____6___|\n",
            "+-----------------------------+-----------------------------+-----------------------------+\n",
            "|123456789 _____6___ 123456789|123456789 123456789 123456789|_2_______ _______8_ 123456789|\n",
            "|123456789 123456789 123456789|___4_____ 1________ ________9|123456789 123456789 ____5____|\n",
            "|123456789 123456789 123456789|123456789 _______8_ 123456789|123456789 ______7__ ________9|\n",
            "+-----------------------------+-----------------------------+-----------------------------+\n"
          ]
        }
      ]
    },
    {
      "cell_type": "markdown",
      "metadata": {
        "deletable": false,
        "editable": false,
        "nbgrader": {
          "cell_type": "markdown",
          "checksum": "baa6de1989b3ab4080826bf41eeb615c",
          "grade": false,
          "grade_id": "cell-a7cb264a1f0dac69",
          "locked": true,
          "schema_version": 3,
          "solution": false
        },
        "id": "Wl4CjCNFhdPa"
      },
      "source": [
        "Test the constructor statement when passed a Sudoku instance."
      ]
    },
    {
      "cell_type": "code",
      "metadata": {
        "deletable": false,
        "editable": false,
        "nbgrader": {
          "cell_type": "code",
          "checksum": "7098be01aa745b1eef29a845fba0e40b",
          "grade": false,
          "grade_id": "cell-dfde422d5915c737",
          "locked": true,
          "schema_version": 3,
          "solution": false
        },
        "id": "vVOeMpsjhdPa"
      },
      "source": [
        "sd1 = Sudoku(sd)\n",
        "assert_equal(sd, sd1)\n"
      ],
      "execution_count": null,
      "outputs": []
    },
    {
      "cell_type": "markdown",
      "metadata": {
        "deletable": false,
        "editable": false,
        "nbgrader": {
          "cell_type": "markdown",
          "checksum": "b3097e98b475306462250c74ee623b15",
          "grade": false,
          "grade_id": "cell-d7b56fa5387da0b5",
          "locked": true,
          "schema_version": 3,
          "solution": false
        },
        "id": "s_UE0yTMhdPb"
      },
      "source": [
        "## Constraint propagation\n",
        "\n",
        "When the set in a Sudoku cell contains only one element, this means that the digit at that cell is known. \n",
        "We can then propagate the knowledge, ruling out that digit in the same row, in the same column, and in the same 3x3 cell. \n",
        "\n",
        "I first write a method that propagates the constraint from a single cell.  The method will return the list of newly-determined cells, that is, the list of cells who also now (but not before) are associated with a 1-element set.  This is useful, because we can then propagate the constraints from those cells in turn.  Further, if an empty set is ever generated, we raise the exception Unsolvable: this means that there is no solution to the proposed Sudoku puzzle. "
      ]
    },
    {
      "cell_type": "markdown",
      "metadata": {
        "deletable": false,
        "editable": false,
        "nbgrader": {
          "cell_type": "markdown",
          "checksum": "c98b50917fa005145dc40c7f82d4fb5d",
          "grade": false,
          "grade_id": "cell-b0ec846f8a365d79",
          "locked": true,
          "schema_version": 3,
          "solution": false
        },
        "id": "m0zTNeafhdPb"
      },
      "source": [
        "## Part 1: Propagating a single cell"
      ]
    },
    {
      "cell_type": "code",
      "metadata": {
        "deletable": false,
        "editable": false,
        "nbgrader": {
          "cell_type": "code",
          "checksum": "7a884c4167806587e806224a15063749",
          "grade": false,
          "grade_id": "cell-fc9a968448c5cc79",
          "locked": true,
          "schema_version": 3,
          "solution": false
        },
        "id": "GggEbaxShdPc"
      },
      "source": [
        "class Unsolvable(Exception):\n",
        "    pass\n",
        "\n",
        "\n",
        "def sudoku_ruleout(self, i, j, x):\n",
        "    \"\"\"The input consists in a cell (i, j), and a value x.\n",
        "    The function removes x from the set self.m[i][j] at the cell, if present, and:\n",
        "    - if the result is empty, raises Unsolvable;\n",
        "    - if the cell used to be a non-singleton cell and is now a singleton\n",
        "      cell, then returns the set {(i, j)};\n",
        "    - otherwise, returns the empty set.\"\"\"\n",
        "    c = self.m[i][j]\n",
        "    n = len(c)\n",
        "    c.discard(x)\n",
        "    self.m[i][j] = c\n",
        "    if len(c) == 0:\n",
        "        raise Unsolvable()\n",
        "    return {(i, j)} if 1 == len(c) < n else set()\n",
        "\n",
        "Sudoku.ruleout = sudoku_ruleout\n"
      ],
      "execution_count": null,
      "outputs": []
    },
    {
      "cell_type": "markdown",
      "metadata": {
        "deletable": false,
        "editable": false,
        "nbgrader": {
          "cell_type": "markdown",
          "checksum": "2140d3f1ccf2fcf45b6b99d653070802",
          "grade": false,
          "grade_id": "cell-644ba08a6176522a",
          "locked": true,
          "schema_version": 3,
          "solution": false
        },
        "id": "uXAi9jfchdPc"
      },
      "source": [
        "The method `propagate_cell(ij)` takes as input a pair `ij` of coordinates.  If the set of possible digits `self.m[i][j]` for cell i,j contains more than one digit, then no propagation is done.  If the set contains a single digit `x`, then we: \n",
        "\n",
        "* Remove `x` from the sets of all other cells on the same row, column, and 3x3 block. \n",
        "* Collect all the newly singleton cells that are formed, due to the digit `x` being removed, and we return them as a set. "
      ]
    },
    {
      "cell_type": "code",
      "metadata": {
        "deletable": false,
        "nbgrader": {
          "cell_type": "code",
          "checksum": "238b2993e7002fe89ef7d9ea1e86388e",
          "grade": false,
          "grade_id": "cell-cb8846ecfc06e4a8",
          "locked": false,
          "schema_version": 3,
          "solution": true
        },
        "id": "1kBeoHRKhdPc"
      },
      "source": [
        "### Exercise: define cell propagation\n",
        "\n",
        "def sudoku_propagate_cell(self, ij):\n",
        "    \"\"\"Propagates the singleton value at cell (i, j), returning the list\n",
        "    of newly-singleton cells.\"\"\"\n",
        "    i, j = ij\n",
        "    if len(self.m[i][j]) > 1:\n",
        "        # Nothing to propagate from cell (i,j).\n",
        "        return set()\n",
        "    # We keep track of the newly-singleton cells.\n",
        "    newly_singleton = set()\n",
        "    x = getel(self.m[i][j]) # Value at (i, j).\n",
        "    # Same row.\n",
        "    for jj in range(9):\n",
        "        if jj != j: # Do not propagate to the element itself.\n",
        "            newly_singleton.update(self.ruleout(i, jj, x))\n",
        "    # Same column.\n",
        "    for ii in range(9):\n",
        "        if ii != i:\n",
        "            newly_singleton.update(self.ruleout(ii, j, x))\n",
        "    # Same block of 3x3 cells.\n",
        "    for ii in range(i//3*3, i//3*3+3):\n",
        "        for jj in range(j//3*3, j//3*3+3):\n",
        "            if ii != i and jj != j:\n",
        "                newly_singleton.update(self.ruleout(ii,jj, x))\n",
        "    # Returns the list of newly-singleton cells.\n",
        "    return newly_singleton\n",
        "\n",
        "Sudoku.propagate_cell = sudoku_propagate_cell\n"
      ],
      "execution_count": null,
      "outputs": []
    },
    {
      "cell_type": "code",
      "metadata": {
        "deletable": false,
        "editable": false,
        "nbgrader": {
          "cell_type": "code",
          "checksum": "1d320009a9aff66baf1be3c34c9aa091",
          "grade": true,
          "grade_id": "cell-518cff90ecab53c2",
          "locked": true,
          "points": 10,
          "schema_version": 3,
          "solution": false
        },
        "colab": {
          "base_uri": "https://localhost:8080/"
        },
        "id": "Spiyf_aNhdPd",
        "outputId": "1eb2aa4f-c378-4c68-96e2-2fead584e68c"
      },
      "source": [
        "tsd = Sudoku.from_string('[[[5], [3], [2], [6], [7], [8], [9], [1, 2, 4], [2]], [[6], [7], [1, 2, 4, 7], [1, 2, 3], [9], [5], [3], [1, 2, 4], [8]], [[1, 2], [9], [8], [3], [4], [1, 2], [5], [6], [7]], [[8], [5], [9], [1, 9, 7], [6], [1, 4, 9, 7], [4], [2], [3]], [[4], [2], [6], [8], [5], [3], [7], [9], [1]], [[7], [1], [3], [9], [2], [4], [8], [5], [6]], [[1, 9], [6], [1, 5, 9, 7], [9, 5, 7], [3], [9, 7], [2], [8], [4]], [[9, 2], [8], [9, 2, 7], [4], [1], [9, 2, 7], [6], [3], [5]], [[3], [4], [2, 3, 4, 5], [2, 5, 6], [8], [6], [1], [7], [9]]]')\n",
        "tsd.show(details=True)\n",
        "try:\n",
        "    tsd.propagate_cell((0, 2))\n",
        "except Unsolvable:\n",
        "    print(\"Good! It was unsolvable.\")\n",
        "else:\n",
        "    raise Exception(\"Hey, it was unsolvable\")\n",
        "\n",
        "tsd = Sudoku.from_string('[[[5], [3], [2], [6], [7], [8], [9], [1, 2, 4], [2, 3]], [[6], [7], [1, 2, 4, 7], [1, 2, 3], [9], [5], [3], [1, 2, 4], [8]], [[1, 2], [9], [8], [3], [4], [1, 2], [5], [6], [7]], [[8], [5], [9], [1, 9, 7], [6], [1, 4, 9, 7], [4], [2], [3]], [[4], [2], [6], [8], [5], [3], [7], [9], [1]], [[7], [1], [3], [9], [2], [4], [8], [5], [6]], [[1, 9], [6], [1, 5, 9, 7], [9, 5, 7], [3], [9, 7], [2], [8], [4]], [[9, 2], [8], [9, 2, 7], [4], [1], [9, 2, 7], [6], [3], [5]], [[3], [4], [2, 3, 4, 5], [2, 5, 6], [8], [6], [1], [7], [9]]]')\n",
        "tsd.show(details=True)\n",
        "assert_equal(tsd.propagate_cell((0, 2)), {(0, 8), (2, 0)})\n",
        "\n"
      ],
      "execution_count": null,
      "outputs": [
        {
          "output_type": "stream",
          "name": "stdout",
          "text": [
            "+-----------------------------+-----------------------------+-----------------------------+\n",
            "|____5____ __3______ _2_______|_____6___ ______7__ _______8_|________9 12_4_____ _2_______|\n",
            "|_____6___ ______7__ 12_4__7__|123______ ________9 ____5____|__3______ 12_4_____ _______8_|\n",
            "|12_______ ________9 _______8_|__3______ ___4_____ 12_______|____5____ _____6___ ______7__|\n",
            "+-----------------------------+-----------------------------+-----------------------------+\n",
            "|_______8_ ____5____ ________9|1_____7_9 _____6___ 1__4__7_9|___4_____ _2_______ __3______|\n",
            "|___4_____ _2_______ _____6___|_______8_ ____5____ __3______|______7__ ________9 1________|\n",
            "|______7__ 1________ __3______|________9 _2_______ ___4_____|_______8_ ____5____ _____6___|\n",
            "+-----------------------------+-----------------------------+-----------------------------+\n",
            "|1_______9 _____6___ 1___5_7_9|____5_7_9 __3______ ______7_9|_2_______ _______8_ ___4_____|\n",
            "|_2______9 _______8_ _2____7_9|___4_____ 1________ _2____7_9|_____6___ __3______ ____5____|\n",
            "|__3______ ___4_____ _2345____|_2__56___ _______8_ _____6___|1________ ______7__ ________9|\n",
            "+-----------------------------+-----------------------------+-----------------------------+\n",
            "Good! It was unsolvable.\n",
            "+-----------------------------+-----------------------------+-----------------------------+\n",
            "|____5____ __3______ _2_______|_____6___ ______7__ _______8_|________9 12_4_____ _23______|\n",
            "|_____6___ ______7__ 12_4__7__|123______ ________9 ____5____|__3______ 12_4_____ _______8_|\n",
            "|12_______ ________9 _______8_|__3______ ___4_____ 12_______|____5____ _____6___ ______7__|\n",
            "+-----------------------------+-----------------------------+-----------------------------+\n",
            "|_______8_ ____5____ ________9|1_____7_9 _____6___ 1__4__7_9|___4_____ _2_______ __3______|\n",
            "|___4_____ _2_______ _____6___|_______8_ ____5____ __3______|______7__ ________9 1________|\n",
            "|______7__ 1________ __3______|________9 _2_______ ___4_____|_______8_ ____5____ _____6___|\n",
            "+-----------------------------+-----------------------------+-----------------------------+\n",
            "|1_______9 _____6___ 1___5_7_9|____5_7_9 __3______ ______7_9|_2_______ _______8_ ___4_____|\n",
            "|_2______9 _______8_ _2____7_9|___4_____ 1________ _2____7_9|_____6___ __3______ ____5____|\n",
            "|__3______ ___4_____ _2345____|_2__56___ _______8_ _____6___|1________ ______7__ ________9|\n",
            "+-----------------------------+-----------------------------+-----------------------------+\n"
          ]
        }
      ]
    },
    {
      "cell_type": "markdown",
      "metadata": {
        "deletable": false,
        "editable": false,
        "nbgrader": {
          "cell_type": "markdown",
          "checksum": "e5ed2a3a7c5ee13c35949e28b4549ce4",
          "grade": false,
          "grade_id": "cell-6bdb89884ff9de73",
          "locked": true,
          "schema_version": 3,
          "solution": false
        },
        "id": "GMAPjsuyhdPd"
      },
      "source": [
        "### Propagating all cells, once"
      ]
    },
    {
      "cell_type": "code",
      "metadata": {
        "deletable": false,
        "editable": false,
        "nbgrader": {
          "cell_type": "code",
          "checksum": "cf75628fec88e4a7eb1336f87733579d",
          "grade": false,
          "grade_id": "cell-f01c09cb45f93a07",
          "locked": true,
          "schema_version": 3,
          "solution": false
        },
        "id": "K3AS3R8uhdPd"
      },
      "source": [
        "def sudoku_propagate_all_cells_once(self):\n",
        "    \"\"\"This function propagates the constraints from all singletons.\"\"\"\n",
        "    for i in range(9):\n",
        "        for j in range(9):\n",
        "            self.propagate_cell((i, j))\n",
        "\n",
        "Sudoku.propagate_all_cells_once = sudoku_propagate_all_cells_once\n"
      ],
      "execution_count": null,
      "outputs": []
    },
    {
      "cell_type": "code",
      "metadata": {
        "deletable": false,
        "editable": false,
        "nbgrader": {
          "cell_type": "code",
          "checksum": "ea85d958be7c22389daa6d8b5319089e",
          "grade": false,
          "grade_id": "cell-544f2797149c7f48",
          "locked": true,
          "schema_version": 3,
          "solution": false
        },
        "colab": {
          "base_uri": "https://localhost:8080/"
        },
        "id": "MwbVjWMWhdPe",
        "outputId": "858fe5b2-ff47-4b5f-81d1-772d7cd9bea6"
      },
      "source": [
        "sd = Sudoku([\n",
        "    '53__7____',\n",
        "    '6__195___',\n",
        "    '_98____6_',\n",
        "    '8___6___3',\n",
        "    '4__8_3__1',\n",
        "    '7___2___6',\n",
        "    '_6____28_',\n",
        "    '___419__5',\n",
        "    '____8__79'\n",
        "])\n",
        "sd.show()\n",
        "sd.propagate_all_cells_once()\n",
        "sd.show()\n",
        "sd.show(details=True)\n"
      ],
      "execution_count": null,
      "outputs": [
        {
          "output_type": "stream",
          "name": "stdout",
          "text": [
            "+---+---+---+\n",
            "|53.|.7.|...|\n",
            "|6..|195|...|\n",
            "|.98|...|.6.|\n",
            "+---+---+---+\n",
            "|8..|.6.|..3|\n",
            "|4..|8.3|..1|\n",
            "|7..|.2.|..6|\n",
            "+---+---+---+\n",
            "|.6.|...|28.|\n",
            "|...|419|..5|\n",
            "|...|.8.|.79|\n",
            "+---+---+---+\n",
            "+---+---+---+\n",
            "|53.|.7.|...|\n",
            "|6..|195|...|\n",
            "|.98|...|.6.|\n",
            "+---+---+---+\n",
            "|8..|.6.|..3|\n",
            "|4..|853|..1|\n",
            "|7..|.2.|..6|\n",
            "+---+---+---+\n",
            "|.6.|..7|284|\n",
            "|...|419|.35|\n",
            "|...|.8.|.79|\n",
            "+---+---+---+\n",
            "+-----------------------------+-----------------------------+-----------------------------+\n",
            "|____5____ __3______ 12_4_____|_2___6___ ______7__ _2_4_6_8_|1__4___89 12_4____9 _2_4___8_|\n",
            "|_____6___ _2_4__7__ _2_4__7__|1________ ________9 ____5____|__34__78_ _234_____ _2_4__78_|\n",
            "|12_______ ________9 _______8_|_23______ __34_____ _2_4_____|1_345_7__ _____6___ _2_4__7__|\n",
            "+-----------------------------+-----------------------------+-----------------------------+\n",
            "|_______8_ 12__5____ 12__5___9|____5_7_9 _____6___ 1__4__7__|___45_7_9 _2_45___9 __3______|\n",
            "|___4_____ _2__5____ _2__56__9|_______8_ ____5____ __3______|____5_7_9 _2__5___9 1________|\n",
            "|______7__ 1___5____ 1_3_5___9|____5___9 _2_______ 1__4_____|___45__89 ___45___9 _____6___|\n",
            "+-----------------------------+-----------------------------+-----------------------------+\n",
            "|1_3_____9 _____6___ 1_345_7_9|__3_5_7__ __3_5____ ______7__|_2_______ _______8_ ___4_____|\n",
            "|_23______ _2____78_ _23___7__|___4_____ 1________ ________9|__3__6___ __3______ ____5____|\n",
            "|123______ 12_45____ 12345____|_23_56___ _______8_ _2___6___|1_34_6___ ______7__ ________9|\n",
            "+-----------------------------+-----------------------------+-----------------------------+\n"
          ]
        }
      ]
    },
    {
      "cell_type": "markdown",
      "metadata": {
        "deletable": false,
        "editable": false,
        "nbgrader": {
          "cell_type": "markdown",
          "checksum": "c3998f1c5401444444d92ca72de4e24e",
          "grade": false,
          "grade_id": "cell-29a0e911623d5ef4",
          "locked": true,
          "schema_version": 3,
          "solution": false
        },
        "id": "x0u25SIUhdPe"
      },
      "source": [
        "## Part 2: Propagating all cells, repeatedly\n",
        "\n",
        "\n",
        "The method `full_propagation` starts with a set of `to_propagate` cells (if it is not specified, then we just take it to consist of all singleton cells).  Then, it picks a cell from the to_propagate set, and propagates from it, adding any newly singleton cell to to_propagate.  Once there are no more cells to be propagated, the method returns. \n",
        "It is the algorithmic pattern of keeping a list of work to be done, then iteratively picking an element from the list, doing it, possibly updating the list of work to be done with new work that has to be done as a result of what we just did, and continuing in this fashion until there is nothing left to do. "
      ]
    },
    {
      "cell_type": "code",
      "metadata": {
        "deletable": false,
        "nbgrader": {
          "cell_type": "code",
          "checksum": "beb9506520842846745d043e52a087be",
          "grade": false,
          "grade_id": "cell-28cd5447394e6887",
          "locked": false,
          "schema_version": 3,
          "solution": true
        },
        "id": "N4LnCQ8XhdPe"
      },
      "source": [
        "def sudoku_full_propagation(self, to_propagate=None):\n",
        "    \"\"\"Iteratively propagates from all singleton cells, and from all\n",
        "    newly discovered singleton cells, until no more propagation is possible.\n",
        "    @param to_propagate: sets of cells from where to propagate.  If None, propagates\n",
        "        from all singleton cells. \n",
        "    @return: nothing.\n",
        "    \"\"\"\n",
        "    if to_propagate is None:\n",
        "        to_propagate = {(i, j) for i in range(9) for j in range(9)}\n",
        "    # This code is the (A) code; will be referenced later.\n",
        "    queue = to_propagate\n",
        "    while queue != set():\n",
        "        val = self.propagate_cell(to_propagate.pop())\n",
        "        to_propagate.update(val)\n",
        "        \n",
        "\n",
        "Sudoku.full_propagation = sudoku_full_propagation\n"
      ],
      "execution_count": null,
      "outputs": []
    },
    {
      "cell_type": "code",
      "metadata": {
        "deletable": false,
        "editable": false,
        "nbgrader": {
          "cell_type": "code",
          "checksum": "5976e0d70cdef616598acf87335d4e9a",
          "grade": true,
          "grade_id": "cell-743ea60f3db12c64",
          "locked": true,
          "points": 10,
          "schema_version": 3,
          "solution": false
        },
        "colab": {
          "base_uri": "https://localhost:8080/"
        },
        "id": "-LhHAXSvhdPf",
        "outputId": "a9cf5e1d-535b-4dce-e3a8-1c89e43ccf30"
      },
      "source": [
        "# Tests for full propagation\n",
        "\n",
        "sd = Sudoku([\n",
        "    '53__7____',\n",
        "    '6__195___',\n",
        "    '_98____6_',\n",
        "    '8___6___3',\n",
        "    '4__8_3__1',\n",
        "    '7___2___6',\n",
        "    '_6____28_',\n",
        "    '___419__5',\n",
        "    '____8__79'\n",
        "])\n",
        "sd.full_propagation()\n",
        "sd.show(details=True)\n",
        "sdd = Sudoku.from_string('[[[5], [3], [4], [6], [7], [8], [9], [1], [2]], [[6], [7], [2], [1], [9], [5], [3], [4], [8]], [[1], [9], [8], [3], [4], [2], [5], [6], [7]], [[8], [5], [9], [7], [6], [1], [4], [2], [3]], [[4], [2], [6], [8], [5], [3], [7], [9], [1]], [[7], [1], [3], [9], [2], [4], [8], [5], [6]], [[9], [6], [1], [5], [3], [7], [2], [8], [4]], [[2], [8], [7], [4], [1], [9], [6], [3], [5]], [[3], [4], [5], [2], [8], [6], [1], [7], [9]]]')\n",
        "assert_equal(sd, sdd)\n",
        "\n"
      ],
      "execution_count": null,
      "outputs": [
        {
          "output_type": "stream",
          "name": "stdout",
          "text": [
            "+-----------------------------+-----------------------------+-----------------------------+\n",
            "|____5____ __3______ ___4_____|_____6___ ______7__ _______8_|________9 1________ _2_______|\n",
            "|_____6___ ______7__ _2_______|1________ ________9 ____5____|__3______ ___4_____ _______8_|\n",
            "|1________ ________9 _______8_|__3______ ___4_____ _2_______|____5____ _____6___ ______7__|\n",
            "+-----------------------------+-----------------------------+-----------------------------+\n",
            "|_______8_ ____5____ ________9|______7__ _____6___ 1________|___4_____ _2_______ __3______|\n",
            "|___4_____ _2_______ _____6___|_______8_ ____5____ __3______|______7__ ________9 1________|\n",
            "|______7__ 1________ __3______|________9 _2_______ ___4_____|_______8_ ____5____ _____6___|\n",
            "+-----------------------------+-----------------------------+-----------------------------+\n",
            "|________9 _____6___ 1________|____5____ __3______ ______7__|_2_______ _______8_ ___4_____|\n",
            "|_2_______ _______8_ ______7__|___4_____ 1________ ________9|_____6___ __3______ ____5____|\n",
            "|__3______ ___4_____ ____5____|_2_______ _______8_ _____6___|1________ ______7__ ________9|\n",
            "+-----------------------------+-----------------------------+-----------------------------+\n"
          ]
        }
      ]
    },
    {
      "cell_type": "markdown",
      "metadata": {
        "deletable": false,
        "editable": false,
        "nbgrader": {
          "cell_type": "markdown",
          "checksum": "f32e1d44d901e052886bccd11640735c",
          "grade": false,
          "grade_id": "cell-4f554f6df1d012c1",
          "locked": true,
          "schema_version": 3,
          "solution": false
        },
        "id": "5mzbz11ghdPf"
      },
      "source": [
        "## Searching for a solution\n",
        "\n",
        "Many Sudoku problems can be solved entirely by constraint propagation.  \n",
        " \n",
        "\n",
        "But it is by no means necessary that this is true. \n",
        "If we create more complex problems, or less determined problems, constraint propagation no longer suffices. "
      ]
    },
    {
      "cell_type": "code",
      "metadata": {
        "deletable": false,
        "editable": false,
        "nbgrader": {
          "cell_type": "code",
          "checksum": "f8080f8293dd697aac0827f751fa4646",
          "grade": false,
          "grade_id": "cell-1c464a49a54fa9be",
          "locked": true,
          "schema_version": 3,
          "solution": false
        },
        "colab": {
          "base_uri": "https://localhost:8080/"
        },
        "id": "PyqKlUhmhdPg",
        "outputId": "a0e9d753-943a-4be0-95e8-21998b77ac42"
      },
      "source": [
        "#Example of constraint propagation not solving the Sudoku\n",
        "sd = Sudoku([\n",
        "    '53__7____',\n",
        "    '6___95___',\n",
        "    '_98____6_',\n",
        "    '8___6___3',\n",
        "    '4__8_3__1',\n",
        "    '7___2___6',\n",
        "    '_6____28_',\n",
        "    '___41___5',\n",
        "    '____8__79'\n",
        "])\n",
        "sd.show()\n",
        "sd.full_propagation()\n",
        "sd.show(details=True)\n"
      ],
      "execution_count": null,
      "outputs": [
        {
          "output_type": "stream",
          "name": "stdout",
          "text": [
            "+---+---+---+\n",
            "|53.|.7.|...|\n",
            "|6..|.95|...|\n",
            "|.98|...|.6.|\n",
            "+---+---+---+\n",
            "|8..|.6.|..3|\n",
            "|4..|8.3|..1|\n",
            "|7..|.2.|..6|\n",
            "+---+---+---+\n",
            "|.6.|...|28.|\n",
            "|...|41.|..5|\n",
            "|...|.8.|.79|\n",
            "+---+---+---+\n",
            "+-----------------------------+-----------------------------+-----------------------------+\n",
            "|____5____ __3______ 12_4_____|12___6___ ______7__ 12___6_8_|___4___89 12_4_____ _2_____8_|\n",
            "|_____6___ 1__4__7__ 12_4__7__|123______ ________9 ____5____|__34___8_ 12_4_____ _2____78_|\n",
            "|12_______ ________9 _______8_|123______ ___4_____ 12_______|__3_5____ _____6___ _2____7__|\n",
            "+-----------------------------+-----------------------------+-----------------------------+\n",
            "|_______8_ 1___5____ 1___5___9|1_____7_9 _____6___ 1__4__7_9|___45____ _2_45____ __3______|\n",
            "|___4_____ _2_______ _____6___|_______8_ ____5____ __3______|______7__ ________9 1________|\n",
            "|______7__ 1___5____ 1_3_5___9|1_______9 _2_______ 1__4____9|___45__8_ ___45____ _____6___|\n",
            "+-----------------------------+-----------------------------+-----------------------------+\n",
            "|1_______9 _____6___ 1___5_7_9|____5_7_9 __3______ ______7_9|_2_______ _______8_ ___4_____|\n",
            "|_2______9 ______78_ _2____7_9|___4_____ 1________ _2____7_9|_____6___ __3______ ____5____|\n",
            "|_23______ ___45____ _2345____|_2__56___ _______8_ _2___6___|1________ ______7__ ________9|\n",
            "+-----------------------------+-----------------------------+-----------------------------+\n"
          ]
        }
      ]
    },
    {
      "cell_type": "code",
      "metadata": {
        "deletable": false,
        "editable": false,
        "nbgrader": {
          "cell_type": "code",
          "checksum": "8f07c61cc249f249ab2824772d0f0c55",
          "grade": false,
          "grade_id": "cell-7fbd34dc04f6fc3b",
          "locked": true,
          "schema_version": 3,
          "solution": false
        },
        "colab": {
          "base_uri": "https://localhost:8080/"
        },
        "id": "epu0ztS7hdPg",
        "outputId": "089e64b6-9fad-447b-f9b7-b82e75226b16"
      },
      "source": [
        "sd.show(details=True)\n",
        "sd_partially_solved = Sudoku(sd)\n"
      ],
      "execution_count": null,
      "outputs": [
        {
          "output_type": "stream",
          "name": "stdout",
          "text": [
            "+-----------------------------+-----------------------------+-----------------------------+\n",
            "|____5____ __3______ 12_4_____|12___6___ ______7__ 12___6_8_|___4___89 12_4_____ _2_____8_|\n",
            "|_____6___ 1__4__7__ 12_4__7__|123______ ________9 ____5____|__34___8_ 12_4_____ _2____78_|\n",
            "|12_______ ________9 _______8_|123______ ___4_____ 12_______|__3_5____ _____6___ _2____7__|\n",
            "+-----------------------------+-----------------------------+-----------------------------+\n",
            "|_______8_ 1___5____ 1___5___9|1_____7_9 _____6___ 1__4__7_9|___45____ _2_45____ __3______|\n",
            "|___4_____ _2_______ _____6___|_______8_ ____5____ __3______|______7__ ________9 1________|\n",
            "|______7__ 1___5____ 1_3_5___9|1_______9 _2_______ 1__4____9|___45__8_ ___45____ _____6___|\n",
            "+-----------------------------+-----------------------------+-----------------------------+\n",
            "|1_______9 _____6___ 1___5_7_9|____5_7_9 __3______ ______7_9|_2_______ _______8_ ___4_____|\n",
            "|_2______9 ______78_ _2____7_9|___4_____ 1________ _2____7_9|_____6___ __3______ ____5____|\n",
            "|_23______ ___45____ _2345____|_2__56___ _______8_ _2___6___|1________ ______7__ ________9|\n",
            "+-----------------------------+-----------------------------+-----------------------------+\n"
          ]
        }
      ]
    },
    {
      "cell_type": "markdown",
      "metadata": {
        "deletable": false,
        "editable": false,
        "nbgrader": {
          "cell_type": "markdown",
          "checksum": "d1d2768a8211864a55aac41d6126f7f2",
          "grade": false,
          "grade_id": "cell-6e73a9f7f41e1ec3",
          "locked": true,
          "schema_version": 3,
          "solution": false
        },
        "id": "FvxwreFjhdPh"
      },
      "source": [
        "Implement search with backtracking.  The idea works something like this:\n",
        "\n",
        "search():\n",
        "1. propagate constraints.\n",
        "1. if solved, hoorrayy!\n",
        "1. if impossible, raise Unsolvable()\n",
        "1. if not fully solved, pick a cell with multiple digits possible, and iteratively:\n",
        " * Assign one of the possible values to the cell. \n",
        " * Call search() with that value for the cell.\n",
        " * If Unsolvable is raised by the search() call, move on to the next value.\n",
        " * If all values returned Unsolvable (if we tried them all), then we raise Unsolvable.\n",
        "\n",
        "One fine point with the search above is that an object has a self.m matrix, which contains the status of the Sudoku solution. \n",
        "You cannot  pass self.m recursively to search(), because in the course of the search and constraint propagation, self.m will be modified, and there is no easy way to keep track of these modifications. \n",
        "Rather, I wrote search() as a method, and when I call it, I:\n",
        "\n",
        "* First, create a copy of the current object via the Sudoku constructor, so I have a copy I can modify. \n",
        "* Second, I assign one of the values to the cell, as above; \n",
        "* Third, I call the search() method of that object. \n",
        "\n",
        "Furthermore, when a solution is found I return the solution via standard returns, or by raising an exception. \n"
      ]
    },
    {
      "cell_type": "code",
      "metadata": {
        "deletable": false,
        "editable": false,
        "nbgrader": {
          "cell_type": "code",
          "checksum": "457600b6d3f42a8b3bc735a077c133b9",
          "grade": false,
          "grade_id": "cell-dc3ac1138a7ebe73",
          "locked": true,
          "schema_version": 3,
          "solution": false
        },
        "id": "_ojch5BehdPh"
      },
      "source": [
        "def sudoku_done(self):\n",
        "    \"\"\"Checks whether an instance of Sudoku is solved.\"\"\"\n",
        "    for i in range(9):\n",
        "        for j in range(9):\n",
        "            if len(self.m[i][j]) > 1:\n",
        "                return False\n",
        "    return True\n",
        "\n",
        "Sudoku.done = sudoku_done\n",
        "\n",
        "\n",
        "def sudoku_search(self, new_cell=None):\n",
        "    \"\"\"Tries to solve a Sudoku instance.\"\"\"\n",
        "    to_propagate = None if new_cell is None else {new_cell}\n",
        "    self.full_propagation(to_propagate=to_propagate)\n",
        "    if self.done():\n",
        "        return self # We are a solution\n",
        "    # We need to search.  Picks a cell with as few candidates as possible.\n",
        "    candidates = [(len(self.m[i][j]), i, j)\n",
        "                   for i in range(9) for j in range(9) if len(self.m[i][j]) > 1]\n",
        "    _, i, j = min(candidates)\n",
        "    values = self.m[i][j]\n",
        "    # values contains the list of values we need to try for cell i, j.\n",
        "    # print(\"Searching values\", values, \"for cell\", i, j)\n",
        "    for x in values:\n",
        "        # print(\"Trying value\", x)\n",
        "        sd = Sudoku(self)\n",
        "        sd.m[i][j] = {x}\n",
        "        try:\n",
        "            # If we find a solution, we return it.\n",
        "            return sd.search(new_cell=(i, j))\n",
        "        except Unsolvable:\n",
        "            # Go to next value.\n",
        "            pass\n",
        "    # All values have been tried, apparently with no success.\n",
        "    raise Unsolvable()\n",
        "\n",
        "Sudoku.search = sudoku_search\n",
        "\n",
        "\n",
        "def sudoku_solve(self, do_print=True):\n",
        "    \"\"\"Wrapper function, calls self and shows the solution if any.\"\"\"\n",
        "    try:\n",
        "        r = self.search()\n",
        "        if do_print:\n",
        "            print(\"We found a solution:\")\n",
        "            r.show()\n",
        "            return r\n",
        "    except Unsolvable:\n",
        "        if do_print:\n",
        "            print(\"The problem has no solutions\")\n",
        "\n",
        "Sudoku.solve = sudoku_solve\n"
      ],
      "execution_count": null,
      "outputs": []
    },
    {
      "cell_type": "markdown",
      "metadata": {
        "deletable": false,
        "editable": false,
        "nbgrader": {
          "cell_type": "markdown",
          "checksum": "9351ba119a2f3cf1a8071371bd095f6e",
          "grade": false,
          "grade_id": "cell-be62d73741d83d3f",
          "locked": true,
          "schema_version": 3,
          "solution": false
        },
        "id": "hx-WsvruhdPh"
      },
      "source": [
        "Reexamining previous Sudoku problem that was not solvable via constraint propagation alone."
      ]
    },
    {
      "cell_type": "code",
      "metadata": {
        "deletable": false,
        "editable": false,
        "nbgrader": {
          "cell_type": "code",
          "checksum": "4ce0ae6e48a3196641714e953aa758fc",
          "grade": false,
          "grade_id": "cell-7c95749068623e30",
          "locked": true,
          "schema_version": 3,
          "solution": false
        },
        "colab": {
          "base_uri": "https://localhost:8080/"
        },
        "id": "QKBYHmg-hdPh",
        "outputId": "54a9f975-c5a2-449b-8b60-5c9a78896ef6"
      },
      "source": [
        "sd = Sudoku([\n",
        "    '53__7____',\n",
        "    '6___95___',\n",
        "    '_98____6_',\n",
        "    '8___6___3',\n",
        "    '4__8_3__1',\n",
        "    '7___2___6',\n",
        "    '_6____28_',\n",
        "    '___41___5',\n",
        "    '____8__79'\n",
        "])\n",
        "_ = sd.solve()\n"
      ],
      "execution_count": null,
      "outputs": [
        {
          "output_type": "stream",
          "name": "stdout",
          "text": [
            "We found a solution:\n",
            "+---+---+---+\n",
            "|531|678|942|\n",
            "|674|295|318|\n",
            "|298|341|567|\n",
            "+---+---+---+\n",
            "|859|167|423|\n",
            "|426|853|791|\n",
            "|713|924|856|\n",
            "+---+---+---+\n",
            "|165|739|284|\n",
            "|987|412|635|\n",
            "|342|586|179|\n",
            "+---+---+---+\n"
          ]
        }
      ]
    },
    {
      "cell_type": "markdown",
      "metadata": {
        "deletable": false,
        "editable": false,
        "nbgrader": {
          "cell_type": "markdown",
          "checksum": "3134dad2ecb444342510670f91698a26",
          "grade": false,
          "grade_id": "cell-2a163e6eda3fc3cc",
          "locked": true,
          "schema_version": 3,
          "solution": false
        },
        "id": "gDtMzHk-hdPi"
      },
      "source": [
        "## Part 3: A better `full_propagation` method\n",
        "\n",
        "Before, the code only constraint was the uniqueness in each row, column, and block, the code needed to propagate only from cells that hold a singleton value. \n",
        "If a cell held a non-singleton set of digits, such as $\\{2, 5\\}$, no values could be ruled out as a consequence of this on the same row, column, or block. \n",
        "\n",
        "The _where can it go_ heuristic, instead, benefits from knowing that in a cell, the set of values went for instance from $\\{2, 3, 5\\}$ to $\\{2, 5\\}$: by ruling out the possibility of a $3$ in this cell, it may be possibe to deduct that the digit $3$ can appear in only one (other) place in the block, and place it there. \n",
        "\n",
        "Thus, modifying the `full_propagation` method.  The method does:\n",
        "* Repeat:\n",
        "  * first does propagation as before, based on singletons; \n",
        "  * then, it applies the _where can it go_ heuristic on the whole Sudoku board. \n",
        "* until there is nothing more that can be propagated. \n",
        "\n",
        "Thus, I replace the `full_propagation` method previously defined with this new one."
      ]
    },
    {
      "cell_type": "code",
      "metadata": {
        "deletable": false,
        "nbgrader": {
          "cell_type": "code",
          "checksum": "60b99c1ba7a109c15de024488b0e2e28",
          "grade": false,
          "grade_id": "cell-940dd336f8cb0836",
          "locked": false,
          "schema_version": 3,
          "solution": true
        },
        "id": "FUhkNbxPhdPi"
      },
      "source": [
        "def sudoku_full_propagation_with_where_can_it_go(self, to_propagate=None):\n",
        "    \"\"\"Iteratively propagates from all singleton cells, and from all\n",
        "    newly discovered singleton cells, until no more propagation is possible.\"\"\"\n",
        "    if to_propagate is None:\n",
        "        to_propagate = {(i, j) for i in range(9) for j in range(9)}\n",
        "    while len(to_propagate) > 0:\n",
        "        queue = to_propagate\n",
        "        while queue != set():\n",
        "            val = self.propagate_cell(to_propagate.pop())\n",
        "            to_propagate.update(val)\n",
        "        # Now we check whether there is any other propagation that we can\n",
        "        # get from the where can it go rule.\n",
        "        to_propagate = self.where_can_it_go()\n",
        "\n"
      ],
      "execution_count": null,
      "outputs": []
    },
    {
      "cell_type": "markdown",
      "metadata": {
        "deletable": false,
        "editable": false,
        "nbgrader": {
          "cell_type": "markdown",
          "checksum": "3c07ebb05e8944fbca00e9d5bc1abf3d",
          "grade": false,
          "grade_id": "cell-e7e942ed1c70bffe",
          "locked": true,
          "schema_version": 3,
          "solution": false
        },
        "id": "sX-kM_eOhdPi"
      },
      "source": [
        "## Part 4: Implement the `occurs_once_in_sets` helper"
      ]
    },
    {
      "cell_type": "markdown",
      "metadata": {
        "deletable": false,
        "editable": false,
        "nbgrader": {
          "cell_type": "markdown",
          "checksum": "6fe2aa31cbcf882d747215c6393ab971",
          "grade": false,
          "grade_id": "cell-a9c05b01c9d2dc52",
          "locked": true,
          "schema_version": 3,
          "solution": false
        },
        "id": "piZXnJLDhdPj"
      },
      "source": [
        "Given a sequence of sets $S_1, S_2, \\ldots, S_n$, we want to obtain the set of elements that appear in _exactly one_ of the sets (that is, they appear in one set, and _only_ in one set).   Mathematically, we can write this as \n",
        "$$\n",
        "(S_1 \\setminus (S_2 \\cup \\cdots \\cup S_n)) \\cup (S_2 \\setminus (S_1 \\cup S_3 \\cup \\cdots \\cup S_n)) \\cup \\cdots \\cup\n",
        "(S_n \\setminus (S_1 \\cup \\cdots \\cup S_{n-1}))\n",
        "$$\n",
        "even though that's certainly not the easiest way to compute it!\n",
        "The problem can be solved with the help of [defaultdict](https://docs.python.org/3/library/collections.html#collections.defaultdict!) to count the occurrences."
      ]
    },
    {
      "cell_type": "code",
      "metadata": {
        "deletable": false,
        "nbgrader": {
          "cell_type": "code",
          "checksum": "563bf07eb1cfa4378a35e7b3ac6c4160",
          "grade": false,
          "grade_id": "cell-9f0737bfd5d1edf6",
          "locked": false,
          "schema_version": 3,
          "solution": true
        },
        "id": "b-N-4m0XhdPj"
      },
      "source": [
        "from collections import defaultdict\n",
        "\n",
        "def occurs_once_in_sets(set_sequence):\n",
        "    \"\"\"Returns the elements that occur only once in the sequence of sets set_sequence.\n",
        "    The elements are returned as a set.\"\"\"\n",
        "    unique = set()\n",
        "    d = defaultdict(int)\n",
        "    for s in set_sequence:\n",
        "        for e in s:\n",
        "            d[e] += 1\n",
        "    for k in d.keys():\n",
        "        if d.get(k) == 1:\n",
        "            unique.add(k)\n",
        "    return unique\n"
      ],
      "execution_count": null,
      "outputs": []
    },
    {
      "cell_type": "code",
      "metadata": {
        "deletable": false,
        "editable": false,
        "nbgrader": {
          "cell_type": "code",
          "checksum": "0de25efa3f83f8e819f42aa76dbf9f3a",
          "grade": true,
          "grade_id": "cell-d9ee2758716b0152",
          "locked": true,
          "points": 10,
          "schema_version": 3,
          "solution": false
        },
        "id": "ZL028kVOhdPj"
      },
      "source": [
        "#Tests for once-only\n",
        "\n",
        "from nose.tools import assert_equal\n",
        "\n",
        "assert_equal(occurs_once_in_sets([{1, 2}, {2, 3}]), {1, 3})\n",
        "assert_equal(occurs_once_in_sets([]), set())\n",
        "assert_equal(occurs_once_in_sets([{2, 3, 4}]), {2, 3, 4})\n",
        "assert_equal(occurs_once_in_sets([set()]), set())\n",
        "assert_equal(occurs_once_in_sets([{2, 3, 4, 5, 6}, {5, 6, 7, 8}, {5, 6, 7}, {4, 6, 7}]), {2, 3, 8})\n",
        "\n"
      ],
      "execution_count": null,
      "outputs": []
    },
    {
      "cell_type": "markdown",
      "metadata": {
        "deletable": false,
        "editable": false,
        "nbgrader": {
          "cell_type": "markdown",
          "checksum": "5ac8acb0181e09b10bab5125c36c75ef",
          "grade": false,
          "grade_id": "cell-d3e7dae9b06497ff",
          "locked": true,
          "schema_version": 3,
          "solution": false
        },
        "id": "pcJuFhZUhdPj"
      },
      "source": [
        "## Part 5: Implement _where can it go_. \n",
        "\n",
        "The method is global: it examines all rows, all columns, and all blocks.  \n",
        "If it finds that in a row (or column, or block), a value can fit in only one cell, and that cell is not currently a singleton (for otherwise there is nothing to be done), it sets the value in the cell, and it adds the cell to the newly_singleton set that is returned, just as in propagate_cell. "
      ]
    },
    {
      "cell_type": "code",
      "metadata": {
        "deletable": false,
        "nbgrader": {
          "cell_type": "code",
          "checksum": "94fdcc1c2ae52fe766c1eb0a1df33155",
          "grade": false,
          "grade_id": "cell-9ade6414caf1a374",
          "locked": false,
          "schema_version": 3,
          "solution": true
        },
        "id": "aXgMQlB5hdPk"
      },
      "source": [
        "def sudoku_where_can_it_go(self):\n",
        "    \"\"\"Sets some cell values according to the where can it go\n",
        "    heuristics, by examining all rows, colums, and blocks.\"\"\"\n",
        "    newly_singleton = set()\n",
        "\n",
        "    for i in range(9):\n",
        "        row = [self.m[i][j] for j in range(9)] \n",
        "        value = occurs_once_in_sets(row)\n",
        "        for v in value:\n",
        "            for coord in range(9):\n",
        "                if v in self.m[i][coord] and len(self.m[i][coord]) > 1:\n",
        "                    self.m[i][coord] = {v}\n",
        "                    newly_singleton.add((i,coord))\n",
        "\n",
        "    for j in range(9):\n",
        "        columns = [self.m[i][j] for i in range(9)] \n",
        "        value = occurs_once_in_sets(columns)\n",
        "        for v in value:\n",
        "            for coord in range(9):\n",
        "                if v in self.m[coord][j] and len(self.m[coord][j]) > 1:\n",
        "                    self.m[coord][j] = {v}\n",
        "                    newly_singleton.add((coord,j))\n",
        "\n",
        "    for row in range(0, 9, 3):\n",
        "        for column in range(0, 9, 3):\n",
        "            block = [self.m[i][j] for i in range(row, row+3) for j in range(column, column+3)]\n",
        "            value = occurs_once_in_sets(block) \n",
        "            for v in value:\n",
        "                for coordi in range(row, row+3):\n",
        "                    for coordj in range(column, column+3):\n",
        "                        if v in self.m[coordi][coordj] and len(self.m[coordi][coordj]) > 1:\n",
        "                            self.m[coordi][coordj] = {v}\n",
        "                            newly_singleton.add((coordi,coordj))\n",
        "\n",
        "    # Returns the list of newly-singleton cells.\n",
        "    return newly_singleton\n",
        "\n",
        "Sudoku.where_can_it_go = sudoku_where_can_it_go\n"
      ],
      "execution_count": null,
      "outputs": []
    },
    {
      "cell_type": "code",
      "metadata": {
        "deletable": false,
        "editable": false,
        "nbgrader": {
          "cell_type": "code",
          "checksum": "b923cc103ab839a02d255dd6bab0e0c0",
          "grade": true,
          "grade_id": "cell-af67367ad75158d9",
          "locked": true,
          "points": 20,
          "schema_version": 3,
          "solution": false
        },
        "colab": {
          "base_uri": "https://localhost:8080/"
        },
        "id": "5TrIvWUxhdPk",
        "outputId": "1be03636-2a89-46c8-c28b-46638a5b2b94"
      },
      "source": [
        "# Tests for where can it go\n",
        "\n",
        "sd = Sudoku.from_string('[[[5], [3], [1, 2, 4], [1, 2, 6], [7], [1, 2, 6, 8], [4, 8, 9], [1, 2, 4], [2, 8]], [[6], [1, 4, 7], [1, 2, 4, 7], [1, 2, 3], [9], [5], [3, 4, 8], [1, 2, 4], [2, 7, 8]], [[1, 2], [9], [8], [1, 2, 3], [4], [1, 2], [3, 5], [6], [2, 7]], [[8], [1, 5], [1, 5, 9], [1, 7, 9], [6], [1, 4, 7, 9], [4, 5], [2, 4, 5], [3]], [[4], [2], [6], [8], [5], [3], [7], [9], [1]], [[7], [1, 5], [1, 3, 5, 9], [1, 9], [2], [1, 4, 9], [4, 5, 8], [4, 5], [6]], [[1, 9], [6], [1, 5, 7, 9], [5, 7, 9], [3], [7, 9], [2], [8], [4]], [[2, 9], [7, 8], [2, 7, 9], [4], [1], [2, 7, 9], [6], [3], [5]], [[2, 3], [4, 5], [2, 3, 4, 5], [2, 5, 6], [8], [2, 6], [1], [7], [9]]]')\n",
        "print(\"Original:\")\n",
        "sd.show(details=True)\n",
        "new_singletons = set()\n",
        "while True:\n",
        "    new_s = sd.where_can_it_go()\n",
        "    if len(new_s) == 0:\n",
        "        break\n",
        "    new_singletons |= new_s\n",
        "assert_equal(new_singletons,\n",
        "             {(3, 2), (2, 6), (7, 1), (5, 6), (2, 8), (8, 0), (0, 5), (1, 6),\n",
        "              (2, 3), (3, 7), (0, 3), (5, 1), (0, 8), (8, 5), (5, 3), (5, 5),\n",
        "              (8, 1), (5, 7), (3, 1), (0, 6), (1, 8), (3, 6), (5, 2), (1, 1)})\n",
        "print(\"After where can it go:\")\n",
        "sd.show(details=True)\n",
        "sdd = Sudoku.from_string('[[[5], [3], [1, 2, 4], [6], [7], [8], [9], [1, 2, 4], [2]], [[6], [7], [1, 2, 4, 7], [1, 2, 3], [9], [5], [3], [1, 2, 4], [8]], [[1, 2], [9], [8], [3], [4], [1, 2], [5], [6], [7]], [[8], [5], [9], [1, 9, 7], [6], [1, 4, 9, 7], [4], [2], [3]], [[4], [2], [6], [8], [5], [3], [7], [9], [1]], [[7], [1], [3], [9], [2], [4], [8], [5], [6]], [[1, 9], [6], [1, 5, 9, 7], [9, 5, 7], [3], [9, 7], [2], [8], [4]], [[9, 2], [8], [9, 2, 7], [4], [1], [9, 2, 7], [6], [3], [5]], [[3], [4], [2, 3, 4, 5], [2, 5, 6], [8], [6], [1], [7], [9]]]')\n",
        "print(\"The above should be equal to:\")\n",
        "sdd.show(details=True)\n",
        "assert_equal(sd, sdd)\n",
        "\n",
        "sd = Sudoku([\n",
        "    '___26_7_1',\n",
        "    '68__7____',\n",
        "    '1____45__',\n",
        "    '82_1___4_',\n",
        "    '__46_2___',\n",
        "    '_5___3_28',\n",
        "    '___3___74',\n",
        "    '_4__5__36',\n",
        "    '7_3_18___'\n",
        "])\n",
        "print(\"Another Original:\")\n",
        "sd.show(details=True)\n",
        "print(\"Propagate once:\")\n",
        "sd.propagate_all_cells_once()\n",
        "# sd.show(details=True)\n",
        "new_singletons = set()\n",
        "while True:\n",
        "    new_s = sd.where_can_it_go()\n",
        "    if len(new_s) == 0:\n",
        "        break\n",
        "    new_singletons |= new_s\n",
        "print(\"After where can it go:\")\n",
        "sd.show(details=True)\n",
        "sdd = Sudoku.from_string('[[[4], [3], [5], [2], [6], [9], [7], [8], [1]], [[6], [8], [2], [5], [7], [1], [4], [9], [3]], [[1], [9], [7], [8], [3], [4], [5], [6], [2]], [[8], [2], [6], [1], [9], [5], [3], [4], [7]], [[3], [7], [4], [6], [8], [2], [9], [1], [5]], [[9], [5], [1], [7], [4], [3], [6], [2], [8]], [[5], [1], [1, 2, 5, 6, 8, 9], [3], [2], [6], [1, 2, 8, 9], [7], [4]], [[2], [4], [1, 2, 8, 9], [9], [5], [7], [1, 2, 8, 9], [3], [6]], [[7], [6], [3], [4], [1], [8], [2], [5], [9]]]')\n",
        "print(\"The above should be equal to:\")\n",
        "sdd.show(details=True)\n",
        "assert_equal(sd, sdd)\n",
        "\n"
      ],
      "execution_count": null,
      "outputs": [
        {
          "output_type": "stream",
          "name": "stdout",
          "text": [
            "Original:\n",
            "+-----------------------------+-----------------------------+-----------------------------+\n",
            "|____5____ __3______ 12_4_____|12___6___ ______7__ 12___6_8_|___4___89 12_4_____ _2_____8_|\n",
            "|_____6___ 1__4__7__ 12_4__7__|123______ ________9 ____5____|__34___8_ 12_4_____ _2____78_|\n",
            "|12_______ ________9 _______8_|123______ ___4_____ 12_______|__3_5____ _____6___ _2____7__|\n",
            "+-----------------------------+-----------------------------+-----------------------------+\n",
            "|_______8_ 1___5____ 1___5___9|1_____7_9 _____6___ 1__4__7_9|___45____ _2_45____ __3______|\n",
            "|___4_____ _2_______ _____6___|_______8_ ____5____ __3______|______7__ ________9 1________|\n",
            "|______7__ 1___5____ 1_3_5___9|1_______9 _2_______ 1__4____9|___45__8_ ___45____ _____6___|\n",
            "+-----------------------------+-----------------------------+-----------------------------+\n",
            "|1_______9 _____6___ 1___5_7_9|____5_7_9 __3______ ______7_9|_2_______ _______8_ ___4_____|\n",
            "|_2______9 ______78_ _2____7_9|___4_____ 1________ _2____7_9|_____6___ __3______ ____5____|\n",
            "|_23______ ___45____ _2345____|_2__56___ _______8_ _2___6___|1________ ______7__ ________9|\n",
            "+-----------------------------+-----------------------------+-----------------------------+\n",
            "After where can it go:\n",
            "+-----------------------------+-----------------------------+-----------------------------+\n",
            "|____5____ __3______ 12_4_____|_____6___ ______7__ _______8_|________9 12_4_____ _2_______|\n",
            "|_____6___ ______7__ 12_4__7__|123______ ________9 ____5____|__3______ 12_4_____ _______8_|\n",
            "|12_______ ________9 _______8_|__3______ ___4_____ 12_______|____5____ _____6___ ______7__|\n",
            "+-----------------------------+-----------------------------+-----------------------------+\n",
            "|_______8_ ____5____ ________9|1_____7_9 _____6___ 1__4__7_9|___4_____ _2_______ __3______|\n",
            "|___4_____ _2_______ _____6___|_______8_ ____5____ __3______|______7__ ________9 1________|\n",
            "|______7__ 1________ __3______|________9 _2_______ ___4_____|_______8_ ____5____ _____6___|\n",
            "+-----------------------------+-----------------------------+-----------------------------+\n",
            "|1_______9 _____6___ 1___5_7_9|____5_7_9 __3______ ______7_9|_2_______ _______8_ ___4_____|\n",
            "|_2______9 _______8_ _2____7_9|___4_____ 1________ _2____7_9|_____6___ __3______ ____5____|\n",
            "|__3______ ___4_____ _2345____|_2__56___ _______8_ _____6___|1________ ______7__ ________9|\n",
            "+-----------------------------+-----------------------------+-----------------------------+\n",
            "The above should be equal to:\n",
            "+-----------------------------+-----------------------------+-----------------------------+\n",
            "|____5____ __3______ 12_4_____|_____6___ ______7__ _______8_|________9 12_4_____ _2_______|\n",
            "|_____6___ ______7__ 12_4__7__|123______ ________9 ____5____|__3______ 12_4_____ _______8_|\n",
            "|12_______ ________9 _______8_|__3______ ___4_____ 12_______|____5____ _____6___ ______7__|\n",
            "+-----------------------------+-----------------------------+-----------------------------+\n",
            "|_______8_ ____5____ ________9|1_____7_9 _____6___ 1__4__7_9|___4_____ _2_______ __3______|\n",
            "|___4_____ _2_______ _____6___|_______8_ ____5____ __3______|______7__ ________9 1________|\n",
            "|______7__ 1________ __3______|________9 _2_______ ___4_____|_______8_ ____5____ _____6___|\n",
            "+-----------------------------+-----------------------------+-----------------------------+\n",
            "|1_______9 _____6___ 1___5_7_9|____5_7_9 __3______ ______7_9|_2_______ _______8_ ___4_____|\n",
            "|_2______9 _______8_ _2____7_9|___4_____ 1________ _2____7_9|_____6___ __3______ ____5____|\n",
            "|__3______ ___4_____ _2345____|_2__56___ _______8_ _____6___|1________ ______7__ ________9|\n",
            "+-----------------------------+-----------------------------+-----------------------------+\n",
            "Another Original:\n",
            "+-----------------------------+-----------------------------+-----------------------------+\n",
            "|123456789 123456789 123456789|_2_______ _____6___ 123456789|______7__ 123456789 1________|\n",
            "|_____6___ _______8_ 123456789|123456789 ______7__ 123456789|123456789 123456789 123456789|\n",
            "|1________ 123456789 123456789|123456789 123456789 ___4_____|____5____ 123456789 123456789|\n",
            "+-----------------------------+-----------------------------+-----------------------------+\n",
            "|_______8_ _2_______ 123456789|1________ 123456789 123456789|123456789 ___4_____ 123456789|\n",
            "|123456789 123456789 ___4_____|_____6___ 123456789 _2_______|123456789 123456789 123456789|\n",
            "|123456789 ____5____ 123456789|123456789 123456789 __3______|123456789 _2_______ _______8_|\n",
            "+-----------------------------+-----------------------------+-----------------------------+\n",
            "|123456789 123456789 123456789|__3______ 123456789 123456789|123456789 ______7__ ___4_____|\n",
            "|123456789 ___4_____ 123456789|123456789 ____5____ 123456789|123456789 __3______ _____6___|\n",
            "|______7__ 123456789 __3______|123456789 1________ _______8_|123456789 123456789 123456789|\n",
            "+-----------------------------+-----------------------------+-----------------------------+\n",
            "Propagate once:\n",
            "After where can it go:\n",
            "+-----------------------------+-----------------------------+-----------------------------+\n",
            "|___4_____ __3______ ____5____|_2_______ _____6___ ________9|______7__ _______8_ 1________|\n",
            "|_____6___ _______8_ _2_______|____5____ ______7__ 1________|___4_____ ________9 __3______|\n",
            "|1________ ________9 ______7__|_______8_ __3______ ___4_____|____5____ _____6___ _2_______|\n",
            "+-----------------------------+-----------------------------+-----------------------------+\n",
            "|_______8_ _2_______ _____6___|1________ ________9 ____5____|__3______ ___4_____ ______7__|\n",
            "|__3______ ______7__ ___4_____|_____6___ _______8_ _2_______|________9 1________ ____5____|\n",
            "|________9 ____5____ 1________|______7__ ___4_____ __3______|_____6___ _2_______ _______8_|\n",
            "+-----------------------------+-----------------------------+-----------------------------+\n",
            "|____5____ 1________ 12__56_89|__3______ _2_______ _____6___|12_____89 ______7__ ___4_____|\n",
            "|_2_______ ___4_____ 12_____89|________9 ____5____ ______7__|12_____89 __3______ _____6___|\n",
            "|______7__ _____6___ __3______|___4_____ 1________ _______8_|_2_______ ____5____ ________9|\n",
            "+-----------------------------+-----------------------------+-----------------------------+\n",
            "The above should be equal to:\n",
            "+-----------------------------+-----------------------------+-----------------------------+\n",
            "|___4_____ __3______ ____5____|_2_______ _____6___ ________9|______7__ _______8_ 1________|\n",
            "|_____6___ _______8_ _2_______|____5____ ______7__ 1________|___4_____ ________9 __3______|\n",
            "|1________ ________9 ______7__|_______8_ __3______ ___4_____|____5____ _____6___ _2_______|\n",
            "+-----------------------------+-----------------------------+-----------------------------+\n",
            "|_______8_ _2_______ _____6___|1________ ________9 ____5____|__3______ ___4_____ ______7__|\n",
            "|__3______ ______7__ ___4_____|_____6___ _______8_ _2_______|________9 1________ ____5____|\n",
            "|________9 ____5____ 1________|______7__ ___4_____ __3______|_____6___ _2_______ _______8_|\n",
            "+-----------------------------+-----------------------------+-----------------------------+\n",
            "|____5____ 1________ 12__56_89|__3______ _2_______ _____6___|12_____89 ______7__ ___4_____|\n",
            "|_2_______ ___4_____ 12_____89|________9 ____5____ ______7__|12_____89 __3______ _____6___|\n",
            "|______7__ _____6___ __3______|___4_____ 1________ _______8_|_2_______ ____5____ ________9|\n",
            "+-----------------------------+-----------------------------+-----------------------------+\n"
          ]
        }
      ]
    },
    {
      "cell_type": "markdown",
      "metadata": {
        "deletable": false,
        "editable": false,
        "nbgrader": {
          "cell_type": "markdown",
          "checksum": "92016e2bd36fd36ab501cb41a5577362",
          "grade": false,
          "grade_id": "cell-1da6bd2e538d04a7",
          "locked": true,
          "schema_version": 3,
          "solution": false
        },
        "id": "Fln1ebS2hdPk"
      },
      "source": [
        "Testing it now on a real probem"
      ]
    },
    {
      "cell_type": "code",
      "metadata": {
        "deletable": false,
        "editable": false,
        "nbgrader": {
          "cell_type": "code",
          "checksum": "6c0019ff0046f86caa9b85eb71b91a75",
          "grade": false,
          "grade_id": "cell-4e8812962b1eb9aa",
          "locked": true,
          "schema_version": 3,
          "solution": false
        },
        "colab": {
          "base_uri": "https://localhost:8080/"
        },
        "id": "Ggf7eSQUhdPl",
        "outputId": "bb4d03ab-f6eb-4913-832e-a73f2eaf37d7"
      },
      "source": [
        "sd = Sudoku(sd_partially_solved)\n",
        "newly_singleton = sd.where_can_it_go()\n",
        "print(\"Newly singleton:\", newly_singleton)\n",
        "print(\"Resulting Sudoku:\")\n",
        "sd.show(details=True)\n"
      ],
      "execution_count": null,
      "outputs": [
        {
          "output_type": "stream",
          "name": "stdout",
          "text": [
            "Newly singleton: {(3, 2), (2, 6), (7, 1), (5, 6), (2, 8), (8, 0), (5, 7), (0, 6), (0, 5), (1, 6), (3, 6), (3, 7), (0, 3), (5, 2), (1, 1)}\n",
            "Resulting Sudoku:\n",
            "+-----------------------------+-----------------------------+-----------------------------+\n",
            "|____5____ __3______ 12_4_____|_____6___ ______7__ _______8_|________9 12_4_____ _2_____8_|\n",
            "|_____6___ ______7__ 12_4__7__|123______ ________9 ____5____|__3______ 12_4_____ _2____78_|\n",
            "|12_______ ________9 _______8_|123______ ___4_____ 12_______|____5____ _____6___ ______7__|\n",
            "+-----------------------------+-----------------------------+-----------------------------+\n",
            "|_______8_ 1___5____ ________9|1_____7_9 _____6___ 1__4__7_9|___4_____ _2_______ __3______|\n",
            "|___4_____ _2_______ _____6___|_______8_ ____5____ __3______|______7__ ________9 1________|\n",
            "|______7__ 1___5____ __3______|1_______9 _2_______ 1__4____9|_______8_ ____5____ _____6___|\n",
            "+-----------------------------+-----------------------------+-----------------------------+\n",
            "|1_______9 _____6___ 1___5_7_9|____5_7_9 __3______ ______7_9|_2_______ _______8_ ___4_____|\n",
            "|_2______9 _______8_ _2____7_9|___4_____ 1________ _2____7_9|_____6___ __3______ ____5____|\n",
            "|__3______ ___45____ _2345____|_2__56___ _______8_ _2___6___|1________ ______7__ ________9|\n",
            "+-----------------------------+-----------------------------+-----------------------------+\n"
          ]
        }
      ]
    },
    {
      "cell_type": "markdown",
      "source": [
        "The heuristics led to substantial progress"
      ],
      "metadata": {
        "id": "s8_Nf7fOJ4sL"
      }
    },
    {
      "cell_type": "code",
      "metadata": {
        "deletable": false,
        "editable": false,
        "nbgrader": {
          "cell_type": "code",
          "checksum": "d91a8402a2904ceb55439800a48e42ef",
          "grade": false,
          "grade_id": "cell-bf3f6d962beb6b03",
          "locked": true,
          "schema_version": 3,
          "solution": false
        },
        "id": "YmfAmhMZhdPl"
      },
      "source": [
        "Sudoku.full_propagation = sudoku_full_propagation_with_where_can_it_go\n"
      ],
      "execution_count": null,
      "outputs": []
    },
    {
      "cell_type": "markdown",
      "metadata": {
        "deletable": false,
        "editable": false,
        "nbgrader": {
          "cell_type": "markdown",
          "checksum": "5a9afb5fff93888608330ad7ee9c39e0",
          "grade": false,
          "grade_id": "cell-9eea8046cc62f03f",
          "locked": true,
          "schema_version": 3,
          "solution": false
        },
        "id": "Z40d6LfshdPl"
      },
      "source": [
        "Trying again to solve the same Sudoku example via constraint propagation?"
      ]
    },
    {
      "cell_type": "code",
      "metadata": {
        "deletable": false,
        "editable": false,
        "nbgrader": {
          "cell_type": "code",
          "checksum": "f8f1ad24474c6fbd9d69a81ced0f4111",
          "grade": false,
          "grade_id": "cell-133a1a9756b38a92",
          "locked": true,
          "schema_version": 3,
          "solution": false
        },
        "colab": {
          "base_uri": "https://localhost:8080/"
        },
        "id": "nJ5utfOwhdPl",
        "outputId": "12a65746-f31d-4270-aeba-3fa5d86c0ba7"
      },
      "source": [
        "sd = Sudoku([\n",
        "    '53__7____',\n",
        "    '6___95___',\n",
        "    '_98____6_',\n",
        "    '8___6___3',\n",
        "    '4__8_3__1',\n",
        "    '7___2___6',\n",
        "    '_6____28_',\n",
        "    '___41___5',\n",
        "    '____8__79'\n",
        "])\n",
        "print(\"Initial:\")\n",
        "sd.show()\n",
        "sd.full_propagation()\n",
        "print(\"After full propagation with where can it go:\")\n",
        "sd.show()\n"
      ],
      "execution_count": null,
      "outputs": [
        {
          "output_type": "stream",
          "name": "stdout",
          "text": [
            "Initial:\n",
            "+---+---+---+\n",
            "|53.|.7.|...|\n",
            "|6..|.95|...|\n",
            "|.98|...|.6.|\n",
            "+---+---+---+\n",
            "|8..|.6.|..3|\n",
            "|4..|8.3|..1|\n",
            "|7..|.2.|..6|\n",
            "+---+---+---+\n",
            "|.6.|...|28.|\n",
            "|...|41.|..5|\n",
            "|...|.8.|.79|\n",
            "+---+---+---+\n",
            "After full propagation with where can it go:\n",
            "+---+---+---+\n",
            "|53.|678|9.2|\n",
            "|67.|.95|3.8|\n",
            "|.98|34.|567|\n",
            "+---+---+---+\n",
            "|859|.6.|423|\n",
            "|426|853|791|\n",
            "|713|924|856|\n",
            "+---+---+---+\n",
            "|.6.|.3.|284|\n",
            "|.8.|41.|635|\n",
            "|34.|.86|179|\n",
            "+---+---+---+\n"
          ]
        }
      ]
    },
    {
      "cell_type": "markdown",
      "metadata": {
        "deletable": false,
        "editable": false,
        "nbgrader": {
          "cell_type": "markdown",
          "checksum": "b3ddad18cecaa1ab92c541bc78fd51b0",
          "grade": false,
          "grade_id": "cell-4f07cfa36044eb1a",
          "locked": true,
          "schema_version": 3,
          "solution": false
        },
        "id": "_RetuqxZhdPm"
      },
      "source": [
        "## Part 6: Solving some problems from example sites\n",
        "\n",
        "Examines how long it takes for the code to solve examples found around the Web. \n",
        "We consider a few from [this site](https://dingo.sbs.arizona.edu/~sandiway/sudoku/examples.html)."
      ]
    },
    {
      "cell_type": "code",
      "metadata": {
        "deletable": false,
        "editable": false,
        "nbgrader": {
          "cell_type": "code",
          "checksum": "db12b648bbd224f7e6aad3c93024b659",
          "grade": false,
          "grade_id": "cell-b748a9d7b998ccb1",
          "locked": true,
          "schema_version": 3,
          "solution": false
        },
        "id": "h8HuE7A4hdPm"
      },
      "source": [
        "import time\n"
      ],
      "execution_count": null,
      "outputs": []
    },
    {
      "cell_type": "markdown",
      "metadata": {
        "deletable": false,
        "editable": false,
        "nbgrader": {
          "cell_type": "markdown",
          "checksum": "60abbc6df0dd5ce2e624961a0bfd0b4c",
          "grade": false,
          "grade_id": "cell-81aecc7eb0dc272d",
          "locked": true,
          "schema_version": 3,
          "solution": false
        },
        "id": "rubPotPXhdPm"
      },
      "source": [
        "### Daily Telegraph January 19th \"Diabolical\"\n",
        "\n"
      ]
    },
    {
      "cell_type": "code",
      "metadata": {
        "deletable": false,
        "editable": false,
        "nbgrader": {
          "cell_type": "code",
          "checksum": "4bb7812d3cbd83fdb608d6ccf2242cc3",
          "grade": true,
          "grade_id": "cell-f21c8884bfe258ea",
          "locked": true,
          "points": 5,
          "schema_version": 3,
          "solution": false
        },
        "colab": {
          "base_uri": "https://localhost:8080/"
        },
        "id": "Slv2SOmZhdPm",
        "outputId": "77ee2569-e72d-4c9d-86e2-278d0791785d"
      },
      "source": [
        "sd = Sudoku([\n",
        "    '_2_6_8___',\n",
        "    '58___97__',\n",
        "    '____4____',\n",
        "    '37____5__',\n",
        "    '6_______4',\n",
        "    '__8____13',\n",
        "    '____2____',\n",
        "    '__98___36',\n",
        "    '___3_6_9_'\n",
        "])\n",
        "t = time.time()\n",
        "sd.solve()\n",
        "elapsed = time.time() - t\n",
        "print(\"Solved in\", elapsed, \"seconds\")\n",
        "\n",
        "assert elapsed < 5"
      ],
      "execution_count": null,
      "outputs": [
        {
          "output_type": "stream",
          "name": "stdout",
          "text": [
            "We found a solution:\n",
            "+---+---+---+\n",
            "|123|678|945|\n",
            "|584|239|761|\n",
            "|967|145|328|\n",
            "+---+---+---+\n",
            "|372|461|589|\n",
            "|691|583|274|\n",
            "|458|792|613|\n",
            "+---+---+---+\n",
            "|836|924|157|\n",
            "|219|857|436|\n",
            "|745|316|892|\n",
            "+---+---+---+\n",
            "Solved in 0.01014089584350586 seconds\n"
          ]
        }
      ]
    },
    {
      "cell_type": "markdown",
      "metadata": {
        "deletable": false,
        "editable": false,
        "nbgrader": {
          "cell_type": "markdown",
          "checksum": "591d98201ab2c2a800a21ded9d565575",
          "grade": false,
          "grade_id": "cell-1a9ae785b525a858",
          "locked": true,
          "schema_version": 3,
          "solution": false
        },
        "id": "kv6JIWGohdPm"
      },
      "source": [
        "### Vegard Hanssen puzzle 2155141"
      ]
    },
    {
      "cell_type": "code",
      "metadata": {
        "deletable": false,
        "editable": false,
        "nbgrader": {
          "cell_type": "code",
          "checksum": "3a237387efbf3cb021c5d81d70328f26",
          "grade": true,
          "grade_id": "cell-de239964954e29c9",
          "locked": true,
          "points": 5,
          "schema_version": 3,
          "solution": false
        },
        "colab": {
          "base_uri": "https://localhost:8080/"
        },
        "id": "BSn6-xnqhdPm",
        "outputId": "c6527182-0887-41de-9801-29e40ca12b62"
      },
      "source": [
        "sd = Sudoku([\n",
        "    '___6__4__',\n",
        "    '7____36__',\n",
        "    '____91_8_',\n",
        "    '_________',\n",
        "    '_5_18___3',\n",
        "    '___3_6_45',\n",
        "    '_4_2___6_',\n",
        "    '9_3______',\n",
        "    '_2____1__'\n",
        "])\n",
        "t = time.time()\n",
        "sd.solve()\n",
        "elapsed = time.time() - t\n",
        "print(\"Solved in\", elapsed, \"seconds\")\n",
        "assert elapsed < 5"
      ],
      "execution_count": null,
      "outputs": [
        {
          "output_type": "stream",
          "name": "stdout",
          "text": [
            "We found a solution:\n",
            "+---+---+---+\n",
            "|581|672|439|\n",
            "|792|843|651|\n",
            "|364|591|782|\n",
            "+---+---+---+\n",
            "|438|957|216|\n",
            "|256|184|973|\n",
            "|179|326|845|\n",
            "+---+---+---+\n",
            "|845|219|367|\n",
            "|913|768|524|\n",
            "|627|435|198|\n",
            "+---+---+---+\n",
            "Solved in 0.0469818115234375 seconds\n"
          ]
        }
      ]
    },
    {
      "cell_type": "markdown",
      "metadata": {
        "deletable": false,
        "editable": false,
        "nbgrader": {
          "cell_type": "markdown",
          "checksum": "2ad8445548c388f80ca5991713b9e2fd",
          "grade": false,
          "grade_id": "cell-e420fe240cceb545",
          "locked": true,
          "schema_version": 3,
          "solution": false
        },
        "id": "QHvChLVEhdPm"
      },
      "source": [
        "### A supposedly even harder sudoku problem\n",
        "\n",
        "[source](http://www.sudokuwiki.org/Weekly_Sudoku.asp?puz=28)"
      ]
    },
    {
      "cell_type": "code",
      "metadata": {
        "deletable": false,
        "editable": false,
        "nbgrader": {
          "cell_type": "code",
          "checksum": "a89e6fc6376e0fe58fad502265dcd3f1",
          "grade": true,
          "grade_id": "cell-3c4e52eb6fd15e87",
          "locked": true,
          "points": 5,
          "schema_version": 3,
          "solution": false
        },
        "colab": {
          "base_uri": "https://localhost:8080/"
        },
        "id": "nD9ef8fqhdPn",
        "outputId": "25ad987c-c54f-4923-bdd0-6b006b8647c4"
      },
      "source": [
        "sd = Sudoku([\n",
        "    '6____894_',\n",
        "    '9____61__',\n",
        "    '_7__4____',\n",
        "    '2__61____',\n",
        "    '______2__',\n",
        "    '_89__2___',\n",
        "    '____6___5',\n",
        "    '_______3_',\n",
        "    '8____16__'\n",
        "])\n",
        "t = time.time()\n",
        "sd.solve()\n",
        "elapsed = time.time() - t\n",
        "print(\"Solved in\", elapsed, \"seconds\")\n",
        "assert elapsed < 10"
      ],
      "execution_count": null,
      "outputs": [
        {
          "output_type": "stream",
          "name": "stdout",
          "text": [
            "We found a solution:\n",
            "+---+---+---+\n",
            "|625|178|943|\n",
            "|948|326|157|\n",
            "|371|945|862|\n",
            "+---+---+---+\n",
            "|257|619|384|\n",
            "|463|587|291|\n",
            "|189|432|576|\n",
            "+---+---+---+\n",
            "|792|863|415|\n",
            "|516|294|738|\n",
            "|834|751|629|\n",
            "+---+---+---+\n",
            "Solved in 0.6625332832336426 seconds\n"
          ]
        }
      ]
    },
    {
      "cell_type": "markdown",
      "metadata": {
        "deletable": false,
        "editable": false,
        "nbgrader": {
          "cell_type": "markdown",
          "checksum": "12f9ddc7dc82b2919f581fa26ad90d30",
          "grade": false,
          "grade_id": "cell-f565bf2d2f86c8e3",
          "locked": true,
          "schema_version": 3,
          "solution": false
        },
        "id": "89cI2lH3hdPn"
      },
      "source": [
        "## Part 7: Trying puzzles in bulk\n",
        "\n",
        "Trying the puzzles found at [https://raw.githubusercontent.com/shadaj/sudoku/master/sudoku17.txt](https://raw.githubusercontent.com/shadaj/sudoku/master/sudoku17.txt)"
      ]
    },
    {
      "cell_type": "code",
      "metadata": {
        "deletable": false,
        "editable": false,
        "nbgrader": {
          "cell_type": "code",
          "checksum": "b57acf87dea7e0c2d1b233653371bf6c",
          "grade": false,
          "grade_id": "cell-2c0b6226e2aec0eb",
          "locked": true,
          "schema_version": 3,
          "solution": false
        },
        "id": "kdujTQlKhdPn"
      },
      "source": [
        "import requests\n",
        "\n",
        "r = requests.get(\"https://raw.githubusercontent.com/shadaj/sudoku/master/sudoku17.txt\")\n",
        "puzzles = r.text.split()\n"
      ],
      "execution_count": null,
      "outputs": []
    },
    {
      "cell_type": "code",
      "metadata": {
        "deletable": false,
        "editable": false,
        "nbgrader": {
          "cell_type": "code",
          "checksum": "5b4a286c7647a7a30cfd95da73a56100",
          "grade": false,
          "grade_id": "cell-6c0de7feec6166c5",
          "locked": true,
          "schema_version": 3,
          "solution": false
        },
        "id": "c9iv_zVZhdPn"
      },
      "source": [
        "def convert_to_our_format(s):\n",
        "    t = s.replace('0', '_')\n",
        "    r = []\n",
        "    for i in range(9):\n",
        "        r.append(t[i * 9: (i + 1) * 9])\n",
        "    return r\n"
      ],
      "execution_count": null,
      "outputs": []
    },
    {
      "cell_type": "markdown",
      "metadata": {
        "deletable": false,
        "editable": false,
        "nbgrader": {
          "cell_type": "markdown",
          "checksum": "dfa0d55daaf773ca852ac5589196a444",
          "grade": false,
          "grade_id": "cell-886afacee135508f",
          "locked": true,
          "schema_version": 3,
          "solution": false
        },
        "id": "XCIkbltXhdPn"
      },
      "source": [
        "Efficiency Test below"
      ]
    },
    {
      "cell_type": "code",
      "metadata": {
        "deletable": false,
        "editable": false,
        "nbgrader": {
          "cell_type": "code",
          "checksum": "d670f50f0b4b00e3f88e6add40c7f8af",
          "grade": true,
          "grade_id": "cell-28f9c6ef4bd62c17",
          "locked": true,
          "points": 5,
          "schema_version": 3,
          "solution": false
        },
        "colab": {
          "base_uri": "https://localhost:8080/"
        },
        "id": "Fl1gTzGmhdPn",
        "outputId": "e2084f79-1f8d-4e18-cc86-b5f52138e98c"
      },
      "source": [
        "t = 0\n",
        "max_d = 0.\n",
        "max_i = None\n",
        "t = time.time()\n",
        "for i, s in enumerate(puzzles[:1000]):\n",
        "    p = convert_to_our_format(puzzles[i])\n",
        "    sd = Sudoku(p)\n",
        "    sd.solve(do_print=False)\n",
        "elapsed = time.time() - t\n",
        "print(\"It took you\", elapsed, \"to solve the first 1000 Sudokus.\")\n",
        "assert elapsed < 30"
      ],
      "execution_count": null,
      "outputs": [
        {
          "output_type": "stream",
          "name": "stdout",
          "text": [
            "It took you 12.602380990982056 to solve the first 1000 Sudokus.\n"
          ]
        }
      ]
    }
  ]
}